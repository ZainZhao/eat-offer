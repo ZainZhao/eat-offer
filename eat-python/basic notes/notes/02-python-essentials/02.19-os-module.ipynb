{
 "cells": [
  {
   "cell_type": "markdown",
   "metadata": {},
   "source": [
    "# 与操作系统进行交互：os 模块"
   ]
  },
  {
   "cell_type": "markdown",
   "metadata": {},
   "source": [
    "`os` 模块提供了对系统文件进行操作的方法："
   ]
  },
  {
   "cell_type": "code",
   "execution_count": 1,
   "metadata": {},
   "outputs": [],
   "source": [
    "import os"
   ]
  },
  {
   "cell_type": "markdown",
   "metadata": {},
   "source": [
    "## 文件路径操作"
   ]
  },
  {
   "cell_type": "markdown",
   "metadata": {},
   "source": [
    "- `os.remove(path)` 或 `os.unlink(path)` ：删除指定路径的文件。路径可以是全名，也可以是当前工作目录下的路径。\n",
    "- `os.removedirs()`：删除文件，并删除中间路径中的空文件夹\n",
    "- `os.chdir(path)`：将当前工作目录改变为指定的路径\n",
    "- `os.getcwd()`：返回当前的工作目录\n",
    "- `os.curdir`：表示当前目录的符号\n",
    "- `os.rename(old, new)`：重命名文件\n",
    "- `os.renames(old, new)`：重命名文件，如果中间路径的文件夹不存在，则创建文件夹\n",
    "- `os.listdir(path)`：返回给定目录下的所有文件夹和文件名，不包括 `'.'` 和 `'..'` 以及子文件夹下的目录。（`'.'` 和 `'..'` 分别指当前目录和父目录）\n",
    "- `os.mkdir(name)`：产生新文件夹\n",
    "- `os.makedirs(name)`：产生新文件夹，如果中间路径的文件夹不存在，则创建文件夹\n",
    "\n",
    "当前目录："
   ]
  },
  {
   "cell_type": "code",
   "execution_count": 5,
   "metadata": {},
   "outputs": [
    {
     "data": {
      "text/plain": [
       "'E:\\\\git-zainzhao\\\\eat-offer\\\\eat-offer\\\\eat-python\\\\basic notes\\\\notes\\\\02-python-essentials'"
      ]
     },
     "execution_count": 5,
     "metadata": {},
     "output_type": "execute_result"
    }
   ],
   "source": [
    "os.getcwd()"
   ]
  },
  {
   "cell_type": "markdown",
   "metadata": {},
   "source": [
    "当前目录的符号："
   ]
  },
  {
   "cell_type": "code",
   "execution_count": 7,
   "metadata": {},
   "outputs": [
    {
     "data": {
      "text/plain": [
       "'.'"
      ]
     },
     "execution_count": 7,
     "metadata": {},
     "output_type": "execute_result"
    }
   ],
   "source": [
    "# . 表示为当前工作目录\n",
    "os.curdir"
   ]
  },
  {
   "cell_type": "markdown",
   "metadata": {},
   "source": [
    "当前目录下的文件："
   ]
  },
  {
   "cell_type": "code",
   "execution_count": 8,
   "metadata": {},
   "outputs": [
    {
     "data": {
      "text/plain": [
       "['.ipynb_checkpoints',\n",
       " '02.01-python-data-types.ipynb',\n",
       " '02.02-numbers.ipynb',\n",
       " '02.03-strings.ipynb',\n",
       " '02.04-indexing-and-slicing.ipynb',\n",
       " '02.05-lists.ipynb',\n",
       " '02.06-mutable-and-immutable-data-types.ipynb',\n",
       " '02.07-tuples.ipynb',\n",
       " '02.08-dictionaries.ipynb',\n",
       " '02.09-sets.ipynb',\n",
       " '02.10-how-python-assignment-works.ipynb',\n",
       " '02.11-if-statement.ipynb',\n",
       " '02.12-loops.ipynb',\n",
       " '02.13-list-comprehension.ipynb',\n",
       " '02.14-functions.ipynb',\n",
       " '02.15-modules-and-packages.ipynb',\n",
       " '02.16-exceptions.ipynb',\n",
       " '02.17-file-IO.ipynb',\n",
       " '02.18-sys-module.ipynb',\n",
       " '02.19-os-module.ipynb',\n",
       " '05.03-comma-separated-values.ipynb',\n",
       " '05.04-regular-expression.ipynb',\n",
       " '05.05-datetime.ipynb',\n",
       " '05.06-sql-databases.ipynb',\n",
       " '05.07-object-relational-mappers.ipynb',\n",
       " '05.08-functions.ipynb',\n",
       " '05.09-iterators.ipynb',\n",
       " '05.10-generators.ipynb',\n",
       " '05.11-context-managers-and-the-with-statement.ipynb',\n",
       " '05.12-decorators.ipynb',\n",
       " '05.13-decorator-usage.ipynb',\n",
       " '05.14-the-operator-functools-itertools-toolz-fn-funcy-module.ipynb',\n",
       " '05.15-scope.ipynb',\n",
       " '05.16-dynamic-code-execution.ipynb',\n",
       " 'my_database.sqlite',\n",
       " 'print_args.py',\n",
       " '__pycache__']"
      ]
     },
     "execution_count": 8,
     "metadata": {},
     "output_type": "execute_result"
    }
   ],
   "source": [
    "os.listdir(os.curdir)"
   ]
  },
  {
   "cell_type": "markdown",
   "metadata": {},
   "source": [
    "产生文件："
   ]
  },
  {
   "cell_type": "code",
   "execution_count": 9,
   "metadata": {},
   "outputs": [
    {
     "name": "stdout",
     "output_type": "stream",
     "text": [
      "True\n"
     ]
    }
   ],
   "source": [
    "f = open(\"test.file\", \"w\")\n",
    "f.close()\n",
    "\n",
    "print (\"test.file\" in os.listdir(os.curdir))"
   ]
  },
  {
   "cell_type": "markdown",
   "metadata": {},
   "source": [
    "重命名文件："
   ]
  },
  {
   "cell_type": "code",
   "execution_count": 10,
   "metadata": {},
   "outputs": [
    {
     "name": "stdout",
     "output_type": "stream",
     "text": [
      "False\n",
      "True\n"
     ]
    }
   ],
   "source": [
    "os.rename(\"test.file\", \"test.new.file\")\n",
    "\n",
    "print (\"test.file\" in os.listdir(os.curdir))\n",
    "print (\"test.new.file\" in os.listdir(os.curdir))"
   ]
  },
  {
   "cell_type": "markdown",
   "metadata": {},
   "source": [
    "删除文件："
   ]
  },
  {
   "cell_type": "code",
   "execution_count": 11,
   "metadata": {},
   "outputs": [],
   "source": [
    "os.remove(\"test.new.file\")"
   ]
  },
  {
   "cell_type": "markdown",
   "metadata": {
    "collapsed": true
   },
   "source": [
    "## 系统常量"
   ]
  },
  {
   "cell_type": "markdown",
   "metadata": {},
   "source": [
    "当前操作系统的换行符："
   ]
  },
  {
   "cell_type": "code",
   "execution_count": 12,
   "metadata": {},
   "outputs": [
    {
     "data": {
      "text/plain": [
       "'\\r\\n'"
      ]
     },
     "execution_count": 12,
     "metadata": {},
     "output_type": "execute_result"
    }
   ],
   "source": [
    "# windows 为 \\r\\n\n",
    "os.linesep"
   ]
  },
  {
   "cell_type": "markdown",
   "metadata": {},
   "source": [
    "当前操作系统的路径分隔符："
   ]
  },
  {
   "cell_type": "code",
   "execution_count": 13,
   "metadata": {},
   "outputs": [
    {
     "data": {
      "text/plain": [
       "'\\\\'"
      ]
     },
     "execution_count": 13,
     "metadata": {},
     "output_type": "execute_result"
    }
   ],
   "source": [
    "os.sep"
   ]
  },
  {
   "cell_type": "markdown",
   "metadata": {},
   "source": [
    "当前操作系统的环境变量中的分隔符（`';'` 或 `':'`）："
   ]
  },
  {
   "cell_type": "code",
   "execution_count": 14,
   "metadata": {},
   "outputs": [
    {
     "data": {
      "text/plain": [
       "';'"
      ]
     },
     "execution_count": 14,
     "metadata": {},
     "output_type": "execute_result"
    }
   ],
   "source": [
    "os.pathsep"
   ]
  },
  {
   "cell_type": "markdown",
   "metadata": {},
   "source": [
    "## 其他"
   ]
  },
  {
   "cell_type": "markdown",
   "metadata": {},
   "source": [
    "`os.environ` 是一个存储所有环境变量的值的字典，可以修改。"
   ]
  },
  {
   "cell_type": "code",
   "execution_count": 17,
   "metadata": {
    "scrolled": true
   },
   "outputs": [
    {
     "data": {
      "text/plain": [
       "environ{'ALLUSERSPROFILE': 'C:\\\\ProgramData',\n",
       "        'APPDATA': 'C:\\\\Users\\\\lenovo-aa\\\\AppData\\\\Roaming',\n",
       "        'ASL.LOG': 'Destination=file',\n",
       "        'CATALINA_BASE': 'F:\\\\tomcat\\\\apache-tomcat-8.5.24',\n",
       "        'CATALINA_HOME': 'F:\\\\tomcat\\\\apache-tomcat-8.5.24',\n",
       "        'COMMONPROGRAMFILES': 'C:\\\\Program Files\\\\Common Files',\n",
       "        'COMMONPROGRAMFILES(X86)': 'C:\\\\Program Files (x86)\\\\Common Files',\n",
       "        'COMMONPROGRAMW6432': 'C:\\\\Program Files\\\\Common Files',\n",
       "        'COMPUTERNAME': 'LAPTOP-ASGSQ4OP',\n",
       "        'COMSPEC': 'C:\\\\WINDOWS\\\\system32\\\\cmd.exe',\n",
       "        'CONFIGSETROOT': 'C:\\\\WINDOWS\\\\ConfigSetRoot',\n",
       "        'CXF_HOME': 'F:\\\\apache-cxf-3.2.7',\n",
       "        'DRIVERDATA': 'C:\\\\Windows\\\\System32\\\\Drivers\\\\DriverData',\n",
       "        'ERLANG_HOME': 'F:\\\\erl',\n",
       "        'FPS_BROWSER_APP_PROFILE_STRING': 'Internet Explorer',\n",
       "        'FPS_BROWSER_USER_PROFILE_STRING': 'Default',\n",
       "        'GRAPHVIZ': 'C:\\\\Program Files (x86)\\\\Graphviz2.38\\\\bin\\\\',\n",
       "        'HADOOP_HOME': 'F:\\\\hadoop\\\\hadoop-2.7.6\\\\hadoop-2.7.6',\n",
       "        'HADOOP_USER_NAME': 'root',\n",
       "        'HOMEDRIVE': 'C:',\n",
       "        'HOMEPATH': '\\\\Users\\\\lenovo-aa',\n",
       "        'INTELLIJ IDEA': 'F:\\\\IntelliJ IDEA 2018.3.3\\\\bin;',\n",
       "        'JAVA_HOME': 'C:\\\\Program Files\\\\Java\\\\jdk1.8.0_144',\n",
       "        'JYTHON_HOME': 'C:\\\\jpython',\n",
       "        'LOCALAPPDATA': 'C:\\\\Users\\\\lenovo-aa\\\\AppData\\\\Local',\n",
       "        'LOGONSERVER': '\\\\\\\\LAPTOP-ASGSQ4OP',\n",
       "        'MAVEN_HOME': 'F:\\\\maven\\\\apache-maven-3.6.0',\n",
       "        'NODE_PATH': 'F:\\\\nodejs\\\\node_global\\\\NODE_modules',\n",
       "        'NUMBER_OF_PROCESSORS': '8',\n",
       "        'ONEDRIVE': 'E:\\\\OneDrive',\n",
       "        'ONEDRIVECONSUMER': 'E:\\\\OneDrive',\n",
       "        'OS': 'Windows_NT',\n",
       "        'PATH': 'F:\\\\app\\\\Zain\\\\product\\\\11.2.0\\\\dbhome_1\\\\bin;C:\\\\ProgramData\\\\Oracle\\\\Java\\\\javapath;C:\\\\Program Files (x86)\\\\Intel\\\\iCLS Client\\\\;C:\\\\Program Files\\\\Intel\\\\iCLS Client\\\\;C:\\\\Windows\\\\system32;C:\\\\Windows;C:\\\\Windows\\\\System32\\\\Wbem;C:\\\\Windows\\\\System32\\\\WindowsPowerShell\\\\v1.0\\\\;C:\\\\Program Files (x86)\\\\NVIDIA Corporation\\\\PhysX\\\\Common;C:\\\\Program Files (x86)\\\\Intel\\\\Intel(R) Management Engine Components\\\\DAL;C:\\\\Program Files\\\\Intel\\\\Intel(R) Management Engine Components\\\\DAL;C:\\\\Program Files (x86)\\\\Intel\\\\Intel(R) Management Engine Components\\\\IPT;C:\\\\Program Files\\\\Intel\\\\Intel(R) Management Engine Components\\\\IPT;C:\\\\Program Files\\\\Microsoft SQL Server\\\\130\\\\Tools\\\\Binn\\\\;C:\\\\WINDOWS\\\\system32;C:\\\\WINDOWS;C:\\\\WINDOWS\\\\System32\\\\Wbem;C:\\\\WINDOWS\\\\System32\\\\WindowsPowerShell\\\\v1.0\\\\;F:\\\\Mysql\\\\bin;C:\\\\WINDOWS\\\\System32\\\\OpenSSH\\\\;F:\\\\PuTTY\\\\;F:\\\\Git\\\\cmd;F:\\\\python;F:\\\\pip\\\\pip-18.1;F:\\\\python\\\\Scripts;F:\\\\maven\\\\apache-maven-3.6.0\\\\bin;F:\\\\apache-cxf-3.2.7\\\\bin;C:\\\\jpython\\\\bin;F:\\\\nodejs\\\\;C:\\\\Program Files (x86)\\\\graphviz\\\\bin;F:\\\\scala_sdk_2.11.12\\\\bin;F:\\\\zookeeper-3.4.14\\\\bin;F:\\\\gradle-3.1\\\\bin;F:\\\\hadoop\\\\hadoop-2.7.6\\\\hadoop-2.7.6\\\\bin;F:\\\\hadoop\\\\hadoop-2.7.6\\\\hadoop-2.7.6\\\\sbin;%CATALINA_HOME%\\\\bin;;F:\\\\MiKTeX 2.5\\\\miktex\\\\bin;F:\\\\anaconda\\\\anaconda;F:\\\\anaconda\\\\anaconda\\\\Library\\\\mingw-w64\\\\bin;F:\\\\anaconda\\\\anaconda\\\\Library\\\\usr\\\\bin;F:\\\\anaconda\\\\anaconda\\\\Library\\\\bin;F:\\\\anaconda\\\\anaconda\\\\Scripts;F:\\\\anaconda;F:\\\\anaconda\\\\Library\\\\mingw-w64\\\\bin;F:\\\\anaconda\\\\Library\\\\usr\\\\bin;F:\\\\anaconda\\\\Library\\\\bin;F:\\\\anaconda\\\\Scripts;.;C:\\\\Program Files\\\\Java\\\\jdk1.8.0_144\\\\bin;C:\\\\Program Files\\\\Java\\\\jdk1.8.0_144\\\\jre\\\\bin;C:\\\\Users\\\\lenovo-aa\\\\AppData\\\\Local\\\\Microsoft\\\\WindowsApps;F:\\\\Egret Wing 3\\\\binC:\\\\tomcat\\\\lib;C:\\\\tomcat\\\\bin;C:\\\\Users\\\\lenovo-aa\\\\AppData\\\\Local\\\\atom\\\\bin;C:\\\\Users\\\\lenovo-aa\\\\AppData\\\\Local\\\\GitHubDesktop\\\\bin;C:\\\\Users\\\\lenovo-aa\\\\AppData\\\\Local\\\\Microsoft\\\\WindowsApps;F:\\\\IntelliJ IDEA 2018.3.3\\\\bin;;F:\\\\nodejs\\\\node_global;F:\\\\erl\\\\bin;F:\\\\Microsoft VS Code\\\\bin;',\n",
       "        'PATHEXT': '.COM;.EXE;.BAT;.CMD;.VBS;.VBE;.JS;.JSE;.WSF;.WSH;.MSC',\n",
       "        'PROCESSOR_ARCHITECTURE': 'AMD64',\n",
       "        'PROCESSOR_IDENTIFIER': 'Intel64 Family 6 Model 158 Stepping 9, GenuineIntel',\n",
       "        'PROCESSOR_LEVEL': '6',\n",
       "        'PROCESSOR_REVISION': '9e09',\n",
       "        'PROGRAMDATA': 'C:\\\\ProgramData',\n",
       "        'PROGRAMFILES': 'C:\\\\Program Files',\n",
       "        'PROGRAMFILES(X86)': 'C:\\\\Program Files (x86)',\n",
       "        'PROGRAMW6432': 'C:\\\\Program Files',\n",
       "        'PROMPT': '$P$G',\n",
       "        'PSMODULEPATH': 'C:\\\\Program Files\\\\WindowsPowerShell\\\\Modules;C:\\\\WINDOWS\\\\system32\\\\WindowsPowerShell\\\\v1.0\\\\Modules',\n",
       "        'PUBLIC': 'C:\\\\Users\\\\Public',\n",
       "        'SBT_HOME': 'F:\\\\scala_sdk\\\\',\n",
       "        'SESSIONNAME': 'Console',\n",
       "        'SYSTEMDRIVE': 'C:',\n",
       "        'SYSTEMROOT': 'C:\\\\WINDOWS',\n",
       "        'TEMP': 'C:\\\\Users\\\\LENOVO~1\\\\AppData\\\\Local\\\\Temp',\n",
       "        'TMP': 'C:\\\\Users\\\\LENOVO~1\\\\AppData\\\\Local\\\\Temp',\n",
       "        'USERDOMAIN': 'LAPTOP-ASGSQ4OP',\n",
       "        'USERDOMAIN_ROAMINGPROFILE': 'LAPTOP-ASGSQ4OP',\n",
       "        'USERNAME': 'Zain',\n",
       "        'USERPROFILE': 'C:\\\\Users\\\\lenovo-aa',\n",
       "        'WINDIR': 'C:\\\\WINDOWS',\n",
       "        'ZOOKEEPER_HOME': 'F:\\\\zookeeper-3.4.14',\n",
       "        'KERNEL_LAUNCH_TIMEOUT': '40',\n",
       "        'JPY_INTERRUPT_EVENT': '3192',\n",
       "        'IPY_INTERRUPT_EVENT': '3192',\n",
       "        'JPY_PARENT_PID': '3188',\n",
       "        'TERM': 'xterm-color',\n",
       "        'CLICOLOR': '1',\n",
       "        'PAGER': 'cat',\n",
       "        'GIT_PAGER': 'cat',\n",
       "        'MPLBACKEND': 'module://ipykernel.pylab.backend_inline'}"
      ]
     },
     "execution_count": 17,
     "metadata": {},
     "output_type": "execute_result"
    }
   ],
   "source": [
    "os.environ"
   ]
  },
  {
   "cell_type": "markdown",
   "metadata": {},
   "source": [
    "`os.urandom(len)` 返回指定长度的随机字节。"
   ]
  },
  {
   "cell_type": "code",
   "execution_count": 18,
   "metadata": {},
   "outputs": [
    {
     "data": {
      "text/plain": [
       "b'\\xefM\\xd0\\xa1X\\x9a>jj\\xcce\\xb6Z\\x18\\xaf\\x85d\\x8a\\xb7\\x18'"
      ]
     },
     "execution_count": 18,
     "metadata": {},
     "output_type": "execute_result"
    }
   ],
   "source": [
    "os.urandom(20)"
   ]
  },
  {
   "cell_type": "markdown",
   "metadata": {},
   "source": [
    "## os.path 模块"
   ]
  },
  {
   "cell_type": "markdown",
   "metadata": {},
   "source": [
    "不同的操作系统使用不同的路径规范，这样当我们在不同的操作系统下进行操作时，可能会带来一定的麻烦，而 `os.path` 模块则帮我们解决了这个问题。"
   ]
  },
  {
   "cell_type": "code",
   "execution_count": 20,
   "metadata": {},
   "outputs": [],
   "source": [
    "import os.path"
   ]
  },
  {
   "cell_type": "markdown",
   "metadata": {},
   "source": [
    "### 检测"
   ]
  },
  {
   "cell_type": "markdown",
   "metadata": {},
   "source": [
    "- `os.path.isfile(path)` ：检测一个路径是否为普通文件\n",
    "- `os.path.isdir(path)`：检测一个路径是否为文件夹\n",
    "- `os.path.exists(path)`：检测路径是否存在\n",
    "- `os.path.isabs(path)`：检测路径是否为绝对路径"
   ]
  },
  {
   "cell_type": "markdown",
   "metadata": {},
   "source": [
    "### split 和 join"
   ]
  },
  {
   "cell_type": "markdown",
   "metadata": {},
   "source": [
    "- `os.path.split(path)`：拆分一个路径为 `(路径, 文件名)` 两部分\n",
    "- `os.path.join(a, *p)`：使用系统的路径分隔符，将各个部分合成一个路径"
   ]
  },
  {
   "cell_type": "code",
   "execution_count": 22,
   "metadata": {},
   "outputs": [
    {
     "data": {
      "text/plain": [
       "('E:\\\\git-zainzhao\\\\eat-offer\\\\eat-offer\\\\eat-python\\\\basic notes\\\\notes',\n",
       " '02-python-essentials')"
      ]
     },
     "execution_count": 22,
     "metadata": {},
     "output_type": "execute_result"
    }
   ],
   "source": [
    "os.path.split(os.getcwd())"
   ]
  },
  {
   "cell_type": "code",
   "execution_count": 25,
   "metadata": {},
   "outputs": [
    {
     "data": {
      "text/plain": [
       "'E:\\\\git-zainzhao\\\\eat-offer'"
      ]
     },
     "execution_count": 25,
     "metadata": {},
     "output_type": "execute_result"
    }
   ],
   "source": [
    "os.path.join('E:\\\\git-zainzhao', 'eat-offer')"
   ]
  },
  {
   "cell_type": "markdown",
   "metadata": {},
   "source": [
    "### 其他"
   ]
  },
  {
   "cell_type": "markdown",
   "metadata": {},
   "source": [
    "- `os.path.abspath()`：返回路径的绝对路径\n",
    "- `os.path.dirname(path)`：返回路径中的文件夹部分\n",
    "- `os.path.basename(path)`：返回路径中的文件部分\n",
    "- `os.path.splitext(path)`：将路径与扩展名分开\n",
    "- `os.path.expanduser(path)`：展开 `'~'` 和 `'~user'`"
   ]
  },
  {
   "cell_type": "code",
   "execution_count": 27,
   "metadata": {},
   "outputs": [
    {
     "data": {
      "text/plain": [
       "'E:\\\\git-zainzhao\\\\eat-offer\\\\eat-offer\\\\eat-python\\\\basic notes\\\\notes\\\\02-python-essentials\\\\02.19-os-module.ipynb'"
      ]
     },
     "execution_count": 27,
     "metadata": {},
     "output_type": "execute_result"
    }
   ],
   "source": [
    "os.path.abspath('02.19-os-module.ipynb')"
   ]
  },
  {
   "cell_type": "code",
   "execution_count": 30,
   "metadata": {},
   "outputs": [
    {
     "data": {
      "text/plain": [
       "('E:\\\\git-zainzhao\\\\eat-offer\\\\eat-offer\\\\eat-python\\\\basic notes\\\\notes\\\\02-python-essentials\\\\02.19-os-module',\n",
       " '.ipynb')"
      ]
     },
     "execution_count": 30,
     "metadata": {},
     "output_type": "execute_result"
    }
   ],
   "source": [
    "os.path.splitext('E:\\\\git-zainzhao\\\\eat-offer\\\\eat-offer\\\\eat-python\\\\basic notes\\\\notes\\\\02-python-essentials\\\\02.19-os-module.ipynb')"
   ]
  },
  {
   "cell_type": "code",
   "execution_count": 33,
   "metadata": {},
   "outputs": [
    {
     "data": {
      "text/plain": [
       "'C:\\\\Users\\\\lenovo-aa/02.19-os-module.ipynb'"
      ]
     },
     "execution_count": 33,
     "metadata": {},
     "output_type": "execute_result"
    }
   ],
   "source": [
    "os.path.expanduser('~/02.19-os-module.ipynb')"
   ]
  }
 ],
 "metadata": {
  "kernelspec": {
   "display_name": "Python 3",
   "language": "python",
   "name": "python3"
  },
  "language_info": {
   "codemirror_mode": {
    "name": "ipython",
    "version": 3
   },
   "file_extension": ".py",
   "mimetype": "text/x-python",
   "name": "python",
   "nbconvert_exporter": "python",
   "pygments_lexer": "ipython3",
   "version": "3.7.4"
  }
 },
 "nbformat": 4,
 "nbformat_minor": 1
}
