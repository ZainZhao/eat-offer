{
 "cells": [
  {
   "cell_type": "code",
   "execution_count": 1,
   "metadata": {
    "scrolled": true
   },
   "outputs": [
    {
     "name": "stderr",
     "output_type": "stream",
     "text": [
      "f:\\anaconda\\anaconda\\envs\\tensor\\lib\\site-packages\\h5py\\__init__.py:34: FutureWarning: Conversion of the second argument of issubdtype from `float` to `np.floating` is deprecated. In future, it will be treated as `np.float64 == np.dtype(float).type`.\n",
      "  from ._conv import register_converters as _register_converters\n"
     ]
    },
    {
     "data": {
      "text/plain": [
       "'1.12.0'"
      ]
     },
     "execution_count": 1,
     "metadata": {},
     "output_type": "execute_result"
    }
   ],
   "source": [
    "import tensorflow as tf\n",
    "tf.__version__"
   ]
  },
  {
   "cell_type": "code",
   "execution_count": 2,
   "metadata": {},
   "outputs": [],
   "source": [
    "import numpy as np\n",
    "import os\n",
    "import random\n",
    "from collections import defaultdict"
   ]
  },
  {
   "cell_type": "code",
   "execution_count": 3,
   "metadata": {},
   "outputs": [],
   "source": [
    "def load_data(path:str):\n",
    "    user_ratings = defaultdict(set)\n",
    "    max_u_id = -1\n",
    "    max_i_id = -1\n",
    "    with open(path,'r') as f:\n",
    "        for line in f.readlines():\n",
    "            u,i,_,_ = line.split(\"\\t\")\n",
    "            u = int(u)\n",
    "            i = int(i)\n",
    "            user_ratings[u].add(i)\n",
    "            max_u_id = max(u,max_u_id)\n",
    "            max_i_id = max(i,max_i_id)\n",
    "    print(\"max_u_id:\",max_u_id)\n",
    "    print(\"max_i_idL\",max_i_id)\n",
    "    return max_u_id,max_i_id,user_ratings"
   ]
  },
  {
   "cell_type": "code",
   "execution_count": 4,
   "metadata": {},
   "outputs": [],
   "source": [
    "def generate_test(user_ratings):\n",
    "    \"\"\"\n",
    "    对每一个用户u，在user_ratings中随机找到他评分过的一部电影i,保存在user_ratings_test，\n",
    "    后面构造训练集和测试集需要用到。\n",
    "    \"\"\"\n",
    "    user_test = dict()\n",
    "    for u,i_list in user_ratings.items():\n",
    "        user_test[u] = random.sample(user_ratings[u],1)[0]  # [0]  用来取出元素\n",
    "    return user_test"
   ]
  },
  {
   "cell_type": "code",
   "execution_count": 5,
   "metadata": {},
   "outputs": [],
   "source": [
    "def generate_train_batch(user_ratings,user_ratings_test,item_count,batch_size=512):\n",
    "    \"\"\"\n",
    "    构造训练用的三元组\n",
    "    对于随机抽出的用户u，i可以从user_ratings随机抽出，而j也是从总的电影集中随机抽出，当然j必须保证(u,j)不在user_ratings中\n",
    "    \"\"\"\n",
    "    t = []\n",
    "    for b in range(batch_size):\n",
    "        u = random.sample(user_ratings.keys(),1)[0]   #  抽出 user \n",
    "        i = random.sample(user_ratings[u],1)[0]       #  抽出 u-i \n",
    "        while i==user_ratings_test[u]:                #  保证 i 不在 user_ratings 中\n",
    "            i = random.sample(user_ratings[u],1)[0]\n",
    "\n",
    "        j = random.randint(1,item_count)   \n",
    "        while j in user_ratings[u]:                 #  保证 j 不在 user_ratings 中\n",
    "            j = random.randint(1,item_count)\n",
    "\n",
    "        t.append([u,i,j])\n",
    "\n",
    "    return np.asarray(t)"
   ]
  },
  {
   "cell_type": "code",
   "execution_count": 6,
   "metadata": {},
   "outputs": [],
   "source": [
    "def generate_test_batch(user_ratings,user_ratings_test,item_count):\n",
    "    \"\"\"\n",
    "    对于每个用户u，它的评分电影i是我们在user_ratings_test中随机抽取的，它的j是用户u所有没有评分过的电影集合，\n",
    "    比如用户u有1000部电影没有评分，那么这里该用户的测试集样本就有1000个\n",
    "    \"\"\"\n",
    "    for u in user_ratings.keys():\n",
    "        t = []                                \n",
    "        i = user_ratings_test[u]\n",
    "        for j in range(1,item_count + 1):\n",
    "            if not(j in user_ratings[u]):   #  找出 j  用户没有评过分的\n",
    "                t.append([u,i,j])          \n",
    "        yield np.asarray(t)\n"
   ]
  },
  {
   "cell_type": "code",
   "execution_count": 7,
   "metadata": {},
   "outputs": [],
   "source": [
    "def bpr_mf(user_count,item_count,hidden_dim):\n",
    "    u = tf.placeholder(tf.int32,[None])\n",
    "    i = tf.placeholder(tf.int32,[None])\n",
    "    j = tf.placeholder(tf.int32,[None])\n",
    "\n",
    "    user_emb_w = tf.get_variable(\"user_emb_w\", [user_count + 1, hidden_dim],\n",
    "                                 initializer=tf.random_normal_initializer(0, 0.1))\n",
    "    item_emb_w = tf.get_variable(\"item_emb_w\", [item_count + 1, hidden_dim],\n",
    "                                 initializer=tf.random_normal_initializer(0, 0.1))\n",
    "\n",
    "    u_emb = tf.nn.embedding_lookup(user_emb_w, u)\n",
    "    i_emb = tf.nn.embedding_lookup(item_emb_w, i)\n",
    "    j_emb = tf.nn.embedding_lookup(item_emb_w, j)\n",
    "\n",
    "    # MF predict: u_i > u_j\n",
    "    x = tf.reduce_sum(tf.multiply(u_emb,(i_emb-j_emb)),1,keep_dims=True)\n",
    "\n",
    "    # average AUC = mean( auc for each user in test set)\n",
    "    mf_auc = tf.reduce_mean(tf.to_float(x>0))\n",
    "\n",
    "    l2_norm = tf.add_n([\n",
    "        tf.reduce_sum(tf.multiply(u_emb, u_emb)),\n",
    "        tf.reduce_sum(tf.multiply(i_emb, i_emb)),\n",
    "        tf.reduce_sum(tf.multiply(j_emb, j_emb))\n",
    "    ])\n",
    "\n",
    "    regulation_rate = 0.0001\n",
    "    bprloss = regulation_rate * l2_norm - tf.reduce_mean(tf.log(tf.sigmoid(x)))\n",
    "\n",
    "    train_op = tf.train.GradientDescentOptimizer(0.01).minimize(bprloss)\n",
    "    return u, i, j, mf_auc, bprloss, train_op"
   ]
  },
  {
   "cell_type": "code",
   "execution_count": 8,
   "metadata": {
    "scrolled": true
   },
   "outputs": [
    {
     "name": "stdout",
     "output_type": "stream",
     "text": [
      "max_u_id: 943\n",
      "max_i_idL 1682\n",
      "WARNING:tensorflow:From <ipython-input-7-f8249307b522>:16: calling reduce_sum (from tensorflow.python.ops.math_ops) with keep_dims is deprecated and will be removed in a future version.\n",
      "Instructions for updating:\n",
      "keep_dims is deprecated, use keepdims instead\n",
      "epoch: 1\n",
      "bpr_loss: 0.7243259270493091\n",
      "_train_op\n",
      "test_loss:  0.81097615 test_auc:  0.4995024060780599\n",
      "\n",
      "epoch: 2\n",
      "bpr_loss: 0.7236929123199899\n",
      "_train_op\n",
      "test_loss:  0.80606645 test_auc:  0.49969343140139616\n",
      "\n",
      "epoch: 3\n",
      "bpr_loss: 0.7230546190920389\n",
      "_train_op\n",
      "test_loss:  0.8015145 test_auc:  0.49979466989351\n",
      "\n",
      "Variable:  user_emb_w:0\n",
      "Shape:  (944, 20)\n",
      "[[-1.1495791e-01 -1.5841755e-04 -1.6849218e-01 ...  3.0700281e-02\n",
      "  -8.3424732e-02  6.5318316e-02]\n",
      " [-4.0012114e-02 -6.0872216e-04 -2.1939857e-02 ... -3.9159764e-02\n",
      "   1.8236209e-02  1.4607744e-01]\n",
      " [-1.5655212e-01  3.7949439e-02  8.3874315e-02 ...  1.3156262e-01\n",
      "   8.1651181e-02  8.2156524e-02]\n",
      " ...\n",
      " [-4.6532106e-02  1.3981578e-01 -1.1642193e-01 ...  4.6231006e-03\n",
      "  -4.2007055e-02 -9.1899961e-02]\n",
      " [ 3.5480317e-02  6.9339819e-02  9.2969844e-05 ... -1.0023547e-01\n",
      "  -1.5890995e-01 -4.0201873e-02]\n",
      " [-4.9461238e-02 -1.2933241e-01  4.0046796e-02 ...  2.2630733e-01\n",
      "   2.7474957e-02  5.6447085e-02]]\n",
      "Variable:  item_emb_w:0\n",
      "Shape:  (1683, 20)\n",
      "[[-0.02689899 -0.06514712 -0.02635155 ... -0.11237939 -0.11641899\n",
      "   0.03800607]\n",
      " [-0.18847145 -0.0531821  -0.0789222  ...  0.19726364 -0.1017898\n",
      "  -0.06004291]\n",
      " [-0.01150709  0.10751394 -0.22751985 ... -0.02470751 -0.08114979\n",
      "   0.11131446]\n",
      " ...\n",
      " [ 0.06776005  0.07872331  0.1785078  ...  0.19346     0.10471097\n",
      "   0.04495704]\n",
      " [-0.04120068  0.07536332  0.0102711  ... -0.14215507  0.17445418\n",
      "  -0.08285304]\n",
      " [-0.04991756  0.03714993  0.10730626 ... -0.08838364 -0.08463321\n",
      "   0.05265882]]\n"
     ]
    }
   ],
   "source": [
    "user_count,item_count,user_ratings = load_data('../dataset/ml-100k/u.data')\n",
    "user_ratings_test = generate_test(user_ratings)\n",
    "\n",
    "with tf.Session() as sess:\n",
    "    u,i,j,mf_auc,bprloss,train_op = bpr_mf(user_count,item_count,20)\n",
    "    sess.run(tf.global_variables_initializer())   # 初始化变量\n",
    "\n",
    "    for epoch in range(1,4):\n",
    "        _batch_bprloss = 0\n",
    "        \n",
    "        # train\n",
    "        for k in range(1,5000):  # batch size = 5000,统一从train set 中进行采样\n",
    "            uij = generate_train_batch(user_ratings,user_ratings_test,item_count)\n",
    "            _bprloss,_train_op = sess.run([bprloss,train_op],feed_dict={u:uij[:,0],i:uij[:,1],j:uij[:,2]})\n",
    "\n",
    "            _batch_bprloss += _bprloss\n",
    "\n",
    "        print(\"epoch:\",epoch)\n",
    "        print(\"bpr_loss:\",_batch_bprloss / k)\n",
    "        print(\"_train_op\")\n",
    "\n",
    "        user_count = 0\n",
    "        _auc_sum = 0.0\n",
    "\n",
    "        # test\n",
    "        for t_uij in generate_test_batch(user_ratings, user_ratings_test, item_count):\n",
    "            _auc, _test_bprloss = sess.run([mf_auc, bprloss],feed_dict={u: t_uij[:, 0], i: t_uij[:, 1], j: t_uij[:, 2]})\n",
    "            user_count += 1\n",
    "            _auc_sum += _auc\n",
    "        print(\"test_loss: \", _test_bprloss, \"test_auc: \", _auc_sum / user_count)\n",
    "        print(\"\")\n",
    "        \n",
    "    variable_names = [v.name for v in tf.trainable_variables()]\n",
    "    values = sess.run(variable_names)\n",
    "    for k, v in zip(variable_names, values):\n",
    "        print(\"Variable: \", k)\n",
    "        print(\"Shape: \", v.shape)\n",
    "       # print(v)"
   ]
  },
  {
   "cell_type": "code",
   "execution_count": 12,
   "metadata": {},
   "outputs": [
    {
     "data": {
      "text/plain": [
       "array([-1.1495791e-01, -1.5841755e-04, -1.6849218e-01, -1.7514817e-01,\n",
       "        1.3888405e-01, -5.2612860e-02, -1.4011137e-01,  4.8302446e-02,\n",
       "        8.5238643e-02,  5.2321006e-02, -3.7560042e-02,  2.3625390e-01,\n",
       "        1.5694846e-01,  1.2698776e-01, -4.0184390e-03, -8.5913189e-02,\n",
       "       -1.2684788e-01,  3.0700281e-02, -8.3424732e-02,  6.5318316e-02],\n",
       "      dtype=float32)"
      ]
     },
     "execution_count": 12,
     "metadata": {},
     "output_type": "execute_result"
    }
   ],
   "source": [
    "values[0][0]  # 第一个user的  user_emb_w"
   ]
  },
  {
   "cell_type": "code",
   "execution_count": 15,
   "metadata": {},
   "outputs": [
    {
     "data": {
      "text/plain": [
       "(20,)"
      ]
     },
     "execution_count": 15,
     "metadata": {},
     "output_type": "execute_result"
    }
   ],
   "source": [
    "np.array(values[0][0]).shape"
   ]
  },
  {
   "cell_type": "code",
   "execution_count": 18,
   "metadata": {
    "scrolled": true
   },
   "outputs": [
    {
     "data": {
      "text/plain": [
       "(1683, 20)"
      ]
     },
     "execution_count": 18,
     "metadata": {},
     "output_type": "execute_result"
    }
   ],
   "source": [
    "np.array(values[1]).shape"
   ]
  },
  {
   "cell_type": "code",
   "execution_count": 19,
   "metadata": {},
   "outputs": [
    {
     "data": {
      "text/plain": [
       "array([0., 0., 0., ..., 0., 0., 0.], dtype=float32)"
      ]
     },
     "execution_count": 19,
     "metadata": {},
     "output_type": "execute_result"
    }
   ],
   "source": [
    "p"
   ]
  },
  {
   "cell_type": "code",
   "execution_count": 35,
   "metadata": {},
   "outputs": [
    {
     "name": "stdout",
     "output_type": "stream",
     "text": [
      "[[ 0.04271021  0.07925439  0.04533527 ... -0.01799173 -0.06918238\n",
      "  -0.0059652 ]]\n",
      "以下是给用户0的推荐：\n",
      "76 0.17093994\n",
      "248 0.13948044\n",
      "989 0.14081037\n",
      "1493 0.14552039\n",
      "1662 0.16801311\n"
     ]
    }
   ],
   "source": [
    "\n",
    "#  0号用户对这个用户对所有电影的预测评分\n",
    "session1 = tf.Session()\n",
    "u1_dim = tf.expand_dims(values[0][0], 0)  # 变为 (1,20)\n",
    "u1_all = tf.matmul(u1_dim, values[1],transpose_b=True)  # (1,20) X (20,1683) = (1,1683)\n",
    "result_1 = session1.run(u1_all)  # 第一个user 对所有用户的评分\n",
    "print (result_1)\n",
    "\n",
    "print(\"以下是给用户0的推荐：\")\n",
    "p = np.squeeze(result_1)  # 从数组的形状中删除单维条目，即把shape中为1的维度去掉\n",
    "p[np.argsort(p)[:-5]] = 0   # 如果存后面取的话，就拿不到index了\n",
    "for index in range(len(p)):\n",
    "    if p[index] != 0:\n",
    "        print (index, p[index])"
   ]
  }
 ],
 "metadata": {
  "kernelspec": {
   "display_name": "Python 3",
   "language": "python",
   "name": "python3"
  },
  "language_info": {
   "codemirror_mode": {
    "name": "ipython",
    "version": 3
   },
   "file_extension": ".py",
   "mimetype": "text/x-python",
   "name": "python",
   "nbconvert_exporter": "python",
   "pygments_lexer": "ipython3",
   "version": "3.6.0"
  }
 },
 "nbformat": 4,
 "nbformat_minor": 4
}
