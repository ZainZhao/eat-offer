{
 "cells": [
  {
   "cell_type": "code",
   "execution_count": 3,
   "metadata": {
    "scrolled": true
   },
   "outputs": [
    {
     "data": {
      "text/plain": [
       "'1.12.0'"
      ]
     },
     "execution_count": 3,
     "metadata": {},
     "output_type": "execute_result"
    }
   ],
   "source": [
    "import tensorflow as tf\n",
    "tf.__version__"
   ]
  },
  {
   "cell_type": "code",
   "execution_count": 2,
   "metadata": {},
   "outputs": [],
   "source": [
    "import numpy as np\n",
    "import os\n",
    "import random\n",
    "from collections import defaultdict"
   ]
  },
  {
   "cell_type": "code",
   "execution_count": 9,
   "metadata": {},
   "outputs": [],
   "source": [
    "def load_data(path:str):\n",
    "    user_ratings = defaultdict(set)\n",
    "    max_u_id = -1\n",
    "    max_i_id = -1\n",
    "    with open(path,'r') as f:\n",
    "        for line in f.readlines():\n",
    "            u,i,_,_ = line.split(\"\\t\")\n",
    "            u = int(u)\n",
    "            i = int(i)\n",
    "            user_ratings[u].add(i)\n",
    "            max_u_id = max(u,max_u_id)\n",
    "            max_i_id = max(i,max_i_id)\n",
    "    print(\"max_u_id:\",max_u_id)\n",
    "    print(\"max_i_idL\",max_i_id)\n",
    "    return max_u_id,max_i_id,user_ratings"
   ]
  },
  {
   "cell_type": "code",
   "execution_count": 23,
   "metadata": {
    "scrolled": false
   },
   "outputs": [
    {
     "name": "stdout",
     "output_type": "stream",
     "text": [
      "max_u_id: 943\n",
      "max_i_idL 1682\n"
     ]
    },
    {
     "data": {
      "text/plain": [
       "943"
      ]
     },
     "execution_count": 23,
     "metadata": {},
     "output_type": "execute_result"
    }
   ],
   "source": [
    "user_count,item_count,user_ratings = load_data('../dataset/ml-100k/u.data')\n",
    "len(user_ratings)"
   ]
  },
  {
   "cell_type": "code",
   "execution_count": null,
   "metadata": {},
   "outputs": [],
   "source": [
    "def generate_test(user_ratings):\n",
    "    \"\"\"\n",
    "    对每一个用户u，在user_ratings中随机找到他评分过的一部电影i,保存在user_ratings_test，\n",
    "    后面构造训练集和测试集需要用到。\n",
    "    \"\"\"\n",
    "    user_test = dict()\n",
    "    for u,i_list in user_ratings.items():\n",
    "        user_test[u] = random.sample(user_ratings[u],1)[0]  # [0]  用来取出元素\n",
    "    return user_test"
   ]
  },
  {
   "cell_type": "code",
   "execution_count": 35,
   "metadata": {},
   "outputs": [],
   "source": [
    "def generate_train_batch(user_ratings,user_ratings_test,item_count,batch_size=512):\n",
    "    \"\"\"\n",
    "    构造训练用的三元组\n",
    "    对于随机抽出的用户u，i可以从user_ratings随机抽出，而j也是从总的电影集中随机抽出，当然j必须保证(u,j)不在user_ratings中\n",
    "    \"\"\"\n",
    "    t = []\n",
    "    for b in range(batch_size):\n",
    "        u = random.sample(user_ratings.keys(),1)[0]   #  抽出 user \n",
    "        i = random.sample(user_ratings[u],1)[0]       #  抽出 u-i \n",
    "        while i==user_ratings_test[u]:                #  保证 i 不在 user_ratings 中\n",
    "            i = random.sample(user_ratings[u],1)[0]\n",
    "\n",
    "        j = random.randint(1,item_count)   \n",
    "        while j in user_ratings[u]:                 #  保证 j 不在 user_ratings 中\n",
    "            j = random.randint(1,item_count)\n",
    "\n",
    "        t.append([u,i,j])\n",
    "\n",
    "    return np.asarray(t)"
   ]
  },
  {
   "cell_type": "code",
   "execution_count": null,
   "metadata": {},
   "outputs": [],
   "source": [
    "def generate_test_batch(user_ratings,user_ratings_test,item_count):\n",
    "    \"\"\"\n",
    "    对于每个用户u，它的评分电影i是我们在user_ratings_test中随机抽取的，它的j是用户u所有没有评分过的电影集合，\n",
    "    比如用户u有1000部电影没有评分，那么这里该用户的测试集样本就有1000个\n",
    "    \"\"\"\n",
    "    for u in user_ratings.keys():\n",
    "        t = []                                \n",
    "        i = user_ratings_test[u]\n",
    "        for j in range(1,item_count + 1):\n",
    "            if not(j in user_ratings[u]):   #  找出 j  用户没有评过分的\n",
    "                t.append([u,i,j])          \n",
    "        yield np.asarray(t)\n"
   ]
  },
  {
   "cell_type": "code",
   "execution_count": null,
   "metadata": {},
   "outputs": [],
   "source": [
    "def bpr_mf(user_count,item_count,hidden_dim):\n",
    "    u = tf.placeholder(tf.int32,[None])\n",
    "    i = tf.placeholder(tf.int32,[None])\n",
    "    j = tf.placeholder(tf.int32,[None])\n",
    "\n",
    "    user_emb_w = tf.get_variable(\"user_emb_w\", [user_count + 1, hidden_dim],\n",
    "                                 initializer=tf.random_normal_initializer(0, 0.1))\n",
    "    item_emb_w = tf.get_variable(\"item_emb_w\", [item_count + 1, hidden_dim],\n",
    "                                 initializer=tf.random_normal_initializer(0, 0.1))\n",
    "\n",
    "    u_emb = tf.nn.embedding_lookup(user_emb_w, u)\n",
    "    i_emb = tf.nn.embedding_lookup(item_emb_w, i)\n",
    "    j_emb = tf.nn.embedding_lookup(item_emb_w, j)\n",
    "\n",
    "\n",
    "    x = tf.reduce_sum(tf.multiply(u_emb,(i_emb-j_emb)),1,keep_dims=True)\n",
    "\n",
    "    mf_auc = tf.reduce_mean(tf.to_float(x>0))\n",
    "\n",
    "    l2_norm = tf.add_n([\n",
    "        tf.reduce_sum(tf.multiply(u_emb, u_emb)),\n",
    "        tf.reduce_sum(tf.multiply(i_emb, i_emb)),\n",
    "        tf.reduce_sum(tf.multiply(j_emb, j_emb))\n",
    "    ])\n",
    "\n",
    "    regulation_rate = 0.0001\n",
    "    bprloss = regulation_rate * l2_norm - tf.reduce_mean(tf.log(tf.sigmoid(x)))\n",
    "\n",
    "    train_op = tf.train.GradientDescentOptimizer(0.01).minimize(bprloss)\n",
    "    return u, i, j, mf_auc, bprloss, train_op"
   ]
  },
  {
   "cell_type": "code",
   "execution_count": null,
   "metadata": {},
   "outputs": [],
   "source": [
    "user_count,item_count,user_ratings = load_data()\n",
    "user_ratings_test = generate_test(user_ratings)\n",
    "\n",
    "with tf.Session() as sess:\n",
    "    u,i,j,mf_auc,bprloss,train_op = bpr_mf(user_count,item_count,20)\n",
    "    sess.run(tf.global_variables_initializer())\n",
    "\n",
    "    for epoch in range(1,4):\n",
    "        _batch_bprloss = 0\n",
    "        for k in range(1,5000):\n",
    "            uij = generate_train_batch(user_ratings,user_ratings_test,item_count)\n",
    "            _bprloss,_train_op = sess.run([bprloss,train_op],\n",
    "                                          feed_dict={u:uij[:,0],i:uij[:,1],j:uij[:,2]})\n",
    "\n",
    "            _batch_bprloss += _bprloss\n",
    "\n",
    "        print(\"epoch:\",epoch)\n",
    "        print(\"bpr_loss:\",_batch_bprloss / k)\n",
    "        print(\"_train_op\")\n",
    "\n",
    "        user_count = 0\n",
    "        _auc_sum = 0.0\n",
    "\n",
    "        for t_uij in generate_test_batch(user_ratings, user_ratings_test, item_count):\n",
    "            _auc, _test_bprloss = sess.run([mf_auc, bprloss],\n",
    "                                              feed_dict={u: t_uij[:, 0], i: t_uij[:, 1], j: t_uij[:, 2]}\n",
    "                                              )\n",
    "            user_count += 1\n",
    "            _auc_sum += _auc\n",
    "        print(\"test_loss: \", _test_bprloss, \"test_auc: \", _auc_sum / user_count)\n",
    "        print(\"\")\n",
    "    variable_names = [v.name for v in tf.trainable_variables()]\n",
    "    values = sess.run(variable_names)\n",
    "    for k, v in zip(variable_names, values):\n",
    "        print(\"Variable: \", k)\n",
    "        print(\"Shape: \", v.shape)\n",
    "        print(v)\n",
    "\n",
    "#  0号用户对这个用户对所有电影的预测评分\n",
    "session1 = tf.Session()\n",
    "u1_dim = tf.expand_dims(values[0][0], 0)\n",
    "u1_all = tf.matmul(u1_dim, values[1],transpose_b=True)\n",
    "result_1 = session1.run(u1_all)\n",
    "print (result_1)\n",
    "\n",
    "print(\"以下是给用户0的推荐：\")\n",
    "p = np.squeeze(result_1)\n",
    "p[np.argsort(p)[:-5]] = 0\n",
    "for index in range(len(p)):\n",
    "    if p[index] != 0:\n",
    "        print (index, p[index])"
   ]
  }
 ],
 "metadata": {
  "kernelspec": {
   "display_name": "Python 3",
   "language": "python",
   "name": "python3"
  },
  "language_info": {
   "codemirror_mode": {
    "name": "ipython",
    "version": 3
   },
   "file_extension": ".py",
   "mimetype": "text/x-python",
   "name": "python",
   "nbconvert_exporter": "python",
   "pygments_lexer": "ipython3",
   "version": "3.6.0"
  }
 },
 "nbformat": 4,
 "nbformat_minor": 4
}
